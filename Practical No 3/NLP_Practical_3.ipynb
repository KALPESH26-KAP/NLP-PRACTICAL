{
  "nbformat": 4,
  "nbformat_minor": 0,
  "metadata": {
    "colab": {
      "name": "NLP Practical 3.ipynb",
      "provenance": [],
      "include_colab_link": true
    },
    "kernelspec": {
      "name": "python3",
      "display_name": "Python 3"
    },
    "language_info": {
      "name": "python"
    }
  },
  "cells": [
    {
      "cell_type": "markdown",
      "metadata": {
        "id": "view-in-github",
        "colab_type": "text"
      },
      "source": [
        "<a href=\"https://colab.research.google.com/github/KALPESH26-KAP/NLP-PRACTICAL/blob/main/Practical%20No%203/NLP_Practical_3.ipynb\" target=\"_parent\"><img src=\"https://colab.research.google.com/assets/colab-badge.svg\" alt=\"Open In Colab\"/></a>"
      ]
    },
    {
      "cell_type": "markdown",
      "source": [
        "# Practical 3\n",
        "# A. Study of Wordnet Dictionary with methods as synsets, definitions, examples, antonyms"
      ],
      "metadata": {
        "id": "N-uukXNYXmgb"
      }
    },
    {
      "cell_type": "code",
      "execution_count": 1,
      "metadata": {
        "colab": {
          "base_uri": "https://localhost:8080/"
        },
        "id": "mDWq8iLLXiAP",
        "outputId": "8f5abe4f-952d-4cbe-a141-6c0b9bef0193"
      },
      "outputs": [
        {
          "output_type": "stream",
          "name": "stdout",
          "text": [
            "[nltk_data] Downloading package wordnet to /root/nltk_data...\n",
            "[nltk_data]   Unzipping corpora/wordnet.zip.\n",
            "[Synset('computer.n.01'), Synset('calculator.n.01')]\n",
            "a machine for performing calculations automatically\n",
            "Examples: []\n",
            "[Lemma('sell.v.01.sell')]\n"
          ]
        }
      ],
      "source": [
        "import nltk\n",
        "nltk.download('wordnet')\n",
        "from nltk.corpus import wordnet\n",
        "print(wordnet.synsets(\"computer\"))\n",
        "# definition and example of the word ‘computer’\n",
        "print(wordnet.synset(\"computer.n.01\").definition())\n",
        "#examples\n",
        "print(\"Examples:\", wordnet.synset(\"computer.n.01\").examples())\n",
        "#get Antonyms\n",
        "print(wordnet.lemma('buy.v.01.buy').antonyms())"
      ]
    },
    {
      "cell_type": "markdown",
      "source": [
        "# B. Study lemmas, hyponyms, hypernyms."
      ],
      "metadata": {
        "id": "AZEgFzrvYDAf"
      }
    },
    {
      "cell_type": "code",
      "source": [
        "import nltk\n",
        "nltk.download('wordnet')\n",
        "from nltk.corpus import wordnet\n",
        "print(wordnet.synsets(\"computer\"))\n",
        "print(wordnet.synset(\"computer.n.01\").lemma_names())\n",
        "#all lemmas for each synset.\n",
        "for e in wordnet.synsets(\"computer\"):\n",
        "  print(f'{e} --> {e.lemma_names()}')\n",
        "#print all lemmas for a given synset\n",
        "print(wordnet.synset('computer.n.01').lemmas())\n",
        "#get the synset corresponding to lemma\n",
        "print(wordnet.lemma('computer.n.01.computing_device').synset())\n",
        "#Get the name of the lemma\n",
        "print(wordnet.lemma('computer.n.01.computing_device').name())\n",
        "#Hyponyms give abstract concepts of the word that are much more specific\n",
        "#the list of hyponyms words of the computer\n",
        "syn = wordnet.synset('computer.n.01')\n",
        "print(syn.hyponyms)\n",
        "print([lemma.name() for synset in syn.hyponyms() for lemma in synset.lemmas()])\n",
        "#the semantic similarity in WordNet\n",
        "vehicle = wordnet.synset('vehicle.n.01')\n",
        "car = wordnet.synset('car.n.01')\n",
        "print(car.lowest_common_hypernyms(vehicle))"
      ],
      "metadata": {
        "id": "bl8UmcRHX3aH",
        "colab": {
          "base_uri": "https://localhost:8080/"
        },
        "outputId": "72cfb667-a91c-4963-c780-831f04e0d14a"
      },
      "execution_count": 2,
      "outputs": [
        {
          "output_type": "stream",
          "name": "stdout",
          "text": [
            "[nltk_data] Downloading package wordnet to /root/nltk_data...\n",
            "[nltk_data]   Package wordnet is already up-to-date!\n",
            "[Synset('computer.n.01'), Synset('calculator.n.01')]\n",
            "['computer', 'computing_machine', 'computing_device', 'data_processor', 'electronic_computer', 'information_processing_system']\n",
            "Synset('computer.n.01') --> ['computer', 'computing_machine', 'computing_device', 'data_processor', 'electronic_computer', 'information_processing_system']\n",
            "Synset('calculator.n.01') --> ['calculator', 'reckoner', 'figurer', 'estimator', 'computer']\n",
            "[Lemma('computer.n.01.computer'), Lemma('computer.n.01.computing_machine'), Lemma('computer.n.01.computing_device'), Lemma('computer.n.01.data_processor'), Lemma('computer.n.01.electronic_computer'), Lemma('computer.n.01.information_processing_system')]\n",
            "Synset('computer.n.01')\n",
            "computing_device\n",
            "<bound method _WordNetObject.hyponyms of Synset('computer.n.01')>\n",
            "['analog_computer', 'analogue_computer', 'digital_computer', 'home_computer', 'node', 'client', 'guest', 'number_cruncher', 'pari-mutuel_machine', 'totalizer', 'totaliser', 'totalizator', 'totalisator', 'predictor', 'server', 'host', 'Turing_machine', 'web_site', 'website', 'internet_site', 'site']\n",
            "[Synset('vehicle.n.01')]\n"
          ]
        }
      ]
    },
    {
      "cell_type": "markdown",
      "source": [
        "# C. Write a program using python to find synonym and antonym of word \"active\" using Wordnet.\n"
      ],
      "metadata": {
        "id": "xI0HoXOBPQN8"
      }
    },
    {
      "cell_type": "code",
      "source": [
        "from nltk.corpus import wordnet\n",
        "print( wordnet.synsets(\"active\"))\n",
        "print(wordnet.lemma('active.a.01.active').antonyms())"
      ],
      "metadata": {
        "colab": {
          "base_uri": "https://localhost:8080/"
        },
        "id": "1oz1RNIzO1ZJ",
        "outputId": "41a8fd42-6038-4957-d15c-3ea9cd505b5d"
      },
      "execution_count": 3,
      "outputs": [
        {
          "output_type": "stream",
          "name": "stdout",
          "text": [
            "[Synset('active_agent.n.01'), Synset('active_voice.n.01'), Synset('active.n.03'), Synset('active.a.01'), Synset('active.s.02'), Synset('active.a.03'), Synset('active.s.04'), Synset('active.a.05'), Synset('active.a.06'), Synset('active.a.07'), Synset('active.s.08'), Synset('active.a.09'), Synset('active.a.10'), Synset('active.a.11'), Synset('active.a.12'), Synset('active.a.13'), Synset('active.a.14')]\n",
            "[Lemma('inactive.a.02.inactive')]\n"
          ]
        }
      ]
    },
    {
      "cell_type": "markdown",
      "source": [
        "# D. Compare two nouns"
      ],
      "metadata": {
        "id": "ESqzqXnYPd8K"
      }
    },
    {
      "cell_type": "code",
      "source": [
        "\n"
      ],
      "metadata": {
        "id": "uGejB86tPXY-"
      },
      "execution_count": 3,
      "outputs": []
    },
    {
      "cell_type": "markdown",
      "source": [
        "# E. Handling stopwords\n",
        "## i)  Using nltk Adding or Removing Stop Words in NLTK's Default Stop Word List\n"
      ],
      "metadata": {
        "id": "CL6tfHg277G-"
      }
    },
    {
      "cell_type": "code",
      "source": [
        "import nltk\n",
        "nltk.download('punkt')\n",
        "from nltk.corpus import stopwords\n",
        "nltk.download('stopwords')\n",
        "from nltk.tokenize import word_tokenize"
      ],
      "metadata": {
        "colab": {
          "base_uri": "https://localhost:8080/"
        },
        "id": "x99Depo4PpSh",
        "outputId": "72a740c2-a65b-4fa3-88a4-a758baa3af9a"
      },
      "execution_count": 4,
      "outputs": [
        {
          "output_type": "stream",
          "name": "stdout",
          "text": [
            "[nltk_data] Downloading package punkt to /root/nltk_data...\n",
            "[nltk_data]   Unzipping tokenizers/punkt.zip.\n",
            "[nltk_data] Downloading package stopwords to /root/nltk_data...\n",
            "[nltk_data]   Unzipping corpora/stopwords.zip.\n"
          ]
        }
      ]
    },
    {
      "cell_type": "code",
      "source": [
        "text = \"Yashesh likes to play football, however he is not too fond of tennis.\"\n",
        "text_tokens = word_tokenize(text)"
      ],
      "metadata": {
        "id": "7e_lg0b98Lgf"
      },
      "execution_count": 5,
      "outputs": []
    },
    {
      "cell_type": "code",
      "source": [
        "tokens_without_sw = [word for word in text_tokens if not word in stopwords.words()]\n",
        "print(tokens_without_sw)"
      ],
      "metadata": {
        "colab": {
          "base_uri": "https://localhost:8080/"
        },
        "id": "MPLMlKEn8Q9W",
        "outputId": "3ea9cfeb-b8b2-430e-c6e8-3a6528e41884"
      },
      "execution_count": 6,
      "outputs": [
        {
          "output_type": "stream",
          "name": "stdout",
          "text": [
            "['Yashesh', 'likes', 'play', 'football', ',', 'however', 'fond', 'tennis', '.']\n"
          ]
        }
      ]
    },
    {
      "cell_type": "code",
      "source": [
        "#add the word play to the NLTK stop word collection\n",
        "all_stopwords = stopwords.words('english')\n",
        "all_stopwords.append('play')"
      ],
      "metadata": {
        "id": "vKul7B8A8fVl"
      },
      "execution_count": 7,
      "outputs": []
    },
    {
      "cell_type": "code",
      "source": [
        "text_tokens = word_tokenize(text)\n",
        "tokens_without_sw = [word for word in text_tokens if not word in all_stopwords]\n",
        "print(tokens_without_sw)"
      ],
      "metadata": {
        "colab": {
          "base_uri": "https://localhost:8080/"
        },
        "id": "cGOrY6t08kep",
        "outputId": "8020db41-42d8-4d16-81a8-e8da47edd570"
      },
      "execution_count": 8,
      "outputs": [
        {
          "output_type": "stream",
          "name": "stdout",
          "text": [
            "['Yashesh', 'likes', 'football', ',', 'however', 'fond', 'tennis', '.']\n"
          ]
        }
      ]
    },
    {
      "cell_type": "code",
      "source": [
        "#remove ‘not’ from stop word collection\n",
        "all_stopwords.remove('not')\n",
        "text_tokens = word_tokenize(text)\n",
        "tokens_without_sw = [word for word in text_tokens if not word in all_stopwords]\n",
        "print(tokens_without_sw)"
      ],
      "metadata": {
        "colab": {
          "base_uri": "https://localhost:8080/"
        },
        "id": "fhR7tU2E8oDz",
        "outputId": "3059345a-eb90-49dd-c6d1-379d4763e4b9"
      },
      "execution_count": 9,
      "outputs": [
        {
          "output_type": "stream",
          "name": "stdout",
          "text": [
            "['Yashesh', 'likes', 'football', ',', 'however', 'not', 'fond', 'tennis', '.']\n"
          ]
        }
      ]
    },
    {
      "cell_type": "markdown",
      "source": [
        "## ii) Using Gensim Adding and Removing Stop Words in Default Gensim Stop Words List"
      ],
      "metadata": {
        "id": "DOwZ3Baw8v28"
      }
    },
    {
      "cell_type": "code",
      "source": [
        "#pip install gensim\n",
        "import gensim\n",
        "from gensim.parsing.preprocessing import remove_stopwords\n",
        "text = \"Yashesh likes to play football, however he is not too fond of tennis.\"\n",
        "filtered_sentence = remove_stopwords(text)\n",
        "print(filtered_sentence)\n",
        "all_stopwords = gensim.parsing.preprocessing.STOPWORDS\n",
        "print(all_stopwords)"
      ],
      "metadata": {
        "colab": {
          "base_uri": "https://localhost:8080/"
        },
        "id": "jPfE5RE78snA",
        "outputId": "1c2796a1-8681-4863-9dbd-47cdefa6a581"
      },
      "execution_count": 10,
      "outputs": [
        {
          "output_type": "stream",
          "name": "stdout",
          "text": [
            "Yashesh likes play football, fond tennis.\n",
            "frozenset({'are', 'show', 'were', 'so', 'did', 'the', 'well', 'those', 'somehow', 'been', 'noone', 'one', 'more', 'go', 'few', 'whereupon', 'had', 'there', 'if', 'where', 'even', 'it', 'side', 'himself', 'once', 'another', 'its', 'sometimes', 'only', 'was', 'anyway', 'yourself', 'for', 'two', 'namely', 'neither', 'around', 'ourselves', 'forty', 'he', 'give', 'third', 'enough', 'eleven', 'his', 'off', 'too', 'without', 'either', 'fifteen', 'mostly', 'hers', 'against', 'above', 'across', 'describe', 'although', 'kg', 'not', 'always', 'who', 'still', 'however', 'here', 'formerly', 'when', 'other', 'how', 'after', 'behind', 'her', 'hereupon', 'very', 'five', 'during', 'bottom', 'never', 'everywhere', 'rather', 'alone', 'being', 'whereby', 'whereas', 'me', 'back', 'same', 'amoungst', 'becoming', 'under', 'an', 'see', 'cannot', 'part', 'might', 'though', 'fire', 'perhaps', 'among', 'twenty', 'elsewhere', 'onto', 'again', 'ten', 'really', 'least', 'all', 'sincere', 'until', 'herein', 'ltd', 'nor', 'already', 'upon', 'own', 'will', 'thick', 'almost', 'take', 'therein', 'seems', 'yours', 'something', 'because', 'with', 'thin', 'nobody', 'down', 'since', 'empty', 'nothing', 'hence', 'than', 'these', 'through', 'can', 'besides', 'thus', 'such', 'towards', 'be', 'etc', 'by', 'wherever', 'front', 'found', 'seem', 'doing', 'we', 'no', 're', 'just', 'none', 'everyone', 'last', 'due', 'which', 'my', 'is', 'whom', 'except', 'three', 'themselves', 'that', 'they', 'every', 'four', 'top', 'con', 'out', 'quite', 'within', 'whole', 'their', 'whoever', 'find', 'per', 'say', 'sixty', 'nevertheless', 'whither', 'don', 'of', 'some', 'may', 'yourselves', 'beyond', 'serious', 'latterly', 'further', 'beside', 'cant', 'whence', 'whenever', 'herself', 'hasnt', 'nine', 'via', 'together', 'do', 'beforehand', 'below', 'fill', 'itself', 'at', 'detail', 'others', 'made', 'what', 'interest', 'while', 'else', 'has', 'or', 'twelve', 'meanwhile', 'move', 'and', 'up', 'our', 'about', 'keep', 'indeed', 'thereafter', 'became', 'this', 'anyone', 'eg', 'put', 'hereby', 'cry', 'in', 'eight', 'please', 'seeming', 'also', 'ours', 'inc', 'am', 'you', 'full', 'otherwise', 'afterwards', 'much', 'computer', 'latter', 'often', 'your', 'various', 'bill', 'used', 'over', 'between', 'could', 'must', 'wherein', 'using', 'ever', 'amount', 'from', 'mill', 'regarding', 'anywhere', 'yet', 'along', 'both', 'make', 'should', 'whose', 'now', 'call', 'thereupon', 'next', 'most', 'less', 'fify', 'several', 'ie', 'toward', 'get', 'system', 'sometime', 'why', 'un', 'somewhere', 'a', 'many', 'throughout', 'to', 'she', 'him', 'six', 'de', 'mine', 'moreover', 'name', 'them', 'hundred', 'thru', 'km', 'everything', 'myself', 'someone', 'thereby', 'hereafter', 'on', 'become', 'have', 'becomes', 'i', 'thence', 'whatever', 'doesn', 'first', 'does', 'unless', 'former', 'us', 'therefore', 'but', 'any', 'didn', 'couldnt', 'each', 'whereafter', 'anyhow', 'anything', 'seemed', 'into', 'before', 'nowhere', 'co', 'done', 'then', 'would', 'whether', 'amongst', 'as'})\n"
          ]
        }
      ]
    },
    {
      "cell_type": "code",
      "source": [
        "from gensim.parsing.preprocessing import STOPWORDS\n",
        "all_stopwords_gensim = STOPWORDS.union(set(['likes', 'play']))\n",
        "text = \"Yashesh likes to play football, however he is not too fond of tennis.\"\n",
        "text_tokens = word_tokenize(text)\n",
        "tokens_without_sw = [word for word in text_tokens if not word in \n",
        "all_stopwords_gensim]\n",
        "print(tokens_without_sw)"
      ],
      "metadata": {
        "colab": {
          "base_uri": "https://localhost:8080/"
        },
        "id": "e9qm-JcT9CGE",
        "outputId": "d3b062b5-fab7-457d-fb56-8caa258fa250"
      },
      "execution_count": 11,
      "outputs": [
        {
          "output_type": "stream",
          "name": "stdout",
          "text": [
            "['Yashesh', 'football', ',', 'fond', 'tennis', '.']\n"
          ]
        }
      ]
    },
    {
      "cell_type": "code",
      "source": [
        "from gensim.parsing.preprocessing import STOPWORDS\n",
        "all_stopwords_gensim = STOPWORDS\n",
        "sw_list = {\"not\"}\n",
        "all_stopwords_gensim = STOPWORDS.difference(sw_list)\n",
        "text = \"Yashesh likes to play football, however he is not too fond of tennis.\"\n",
        "text_tokens = word_tokenize(text)\n",
        "tokens_without_sw = [word for word in text_tokens if not word in \n",
        "all_stopwords_gensim]\n",
        "print(tokens_without_sw)"
      ],
      "metadata": {
        "colab": {
          "base_uri": "https://localhost:8080/"
        },
        "id": "gg2VYqWs9GjE",
        "outputId": "0ea6d17d-1224-4d2b-d466-4585424145e0"
      },
      "execution_count": 12,
      "outputs": [
        {
          "output_type": "stream",
          "name": "stdout",
          "text": [
            "['Yashesh', 'likes', 'play', 'football', ',', 'not', 'fond', 'tennis', '.']\n"
          ]
        }
      ]
    },
    {
      "cell_type": "markdown",
      "source": [
        "## iii).  Using Spacy Adding and Removing Stop Words in Default Spacy Stop Words List"
      ],
      "metadata": {
        "id": "VPu_ALI79Npl"
      }
    },
    {
      "cell_type": "code",
      "source": [
        "!pip install spacy\n",
        "!python -m spacy download en_core_web_sm\n",
        "!python -m spacy download en\n",
        "import spacy\n",
        "import nltk\n",
        "from nltk.tokenize import word_tokenize"
      ],
      "metadata": {
        "colab": {
          "base_uri": "https://localhost:8080/"
        },
        "id": "m1gZtSgs9KXI",
        "outputId": "d488291c-6423-4ccc-cb42-48ade692592a"
      },
      "execution_count": 13,
      "outputs": [
        {
          "output_type": "stream",
          "name": "stdout",
          "text": [
            "Requirement already satisfied: spacy in /usr/local/lib/python3.7/dist-packages (2.2.4)\n",
            "Requirement already satisfied: murmurhash<1.1.0,>=0.28.0 in /usr/local/lib/python3.7/dist-packages (from spacy) (1.0.6)\n",
            "Requirement already satisfied: requests<3.0.0,>=2.13.0 in /usr/local/lib/python3.7/dist-packages (from spacy) (2.23.0)\n",
            "Requirement already satisfied: thinc==7.4.0 in /usr/local/lib/python3.7/dist-packages (from spacy) (7.4.0)\n",
            "Requirement already satisfied: cymem<2.1.0,>=2.0.2 in /usr/local/lib/python3.7/dist-packages (from spacy) (2.0.6)\n",
            "Requirement already satisfied: setuptools in /usr/local/lib/python3.7/dist-packages (from spacy) (57.4.0)\n",
            "Requirement already satisfied: blis<0.5.0,>=0.4.0 in /usr/local/lib/python3.7/dist-packages (from spacy) (0.4.1)\n",
            "Requirement already satisfied: preshed<3.1.0,>=3.0.2 in /usr/local/lib/python3.7/dist-packages (from spacy) (3.0.6)\n",
            "Requirement already satisfied: srsly<1.1.0,>=1.0.2 in /usr/local/lib/python3.7/dist-packages (from spacy) (1.0.5)\n",
            "Requirement already satisfied: catalogue<1.1.0,>=0.0.7 in /usr/local/lib/python3.7/dist-packages (from spacy) (1.0.0)\n",
            "Requirement already satisfied: numpy>=1.15.0 in /usr/local/lib/python3.7/dist-packages (from spacy) (1.21.5)\n",
            "Requirement already satisfied: tqdm<5.0.0,>=4.38.0 in /usr/local/lib/python3.7/dist-packages (from spacy) (4.63.0)\n",
            "Requirement already satisfied: wasabi<1.1.0,>=0.4.0 in /usr/local/lib/python3.7/dist-packages (from spacy) (0.9.0)\n",
            "Requirement already satisfied: plac<1.2.0,>=0.9.6 in /usr/local/lib/python3.7/dist-packages (from spacy) (1.1.3)\n",
            "Requirement already satisfied: importlib-metadata>=0.20 in /usr/local/lib/python3.7/dist-packages (from catalogue<1.1.0,>=0.0.7->spacy) (4.11.3)\n",
            "Requirement already satisfied: zipp>=0.5 in /usr/local/lib/python3.7/dist-packages (from importlib-metadata>=0.20->catalogue<1.1.0,>=0.0.7->spacy) (3.7.0)\n",
            "Requirement already satisfied: typing-extensions>=3.6.4 in /usr/local/lib/python3.7/dist-packages (from importlib-metadata>=0.20->catalogue<1.1.0,>=0.0.7->spacy) (3.10.0.2)\n",
            "Requirement already satisfied: idna<3,>=2.5 in /usr/local/lib/python3.7/dist-packages (from requests<3.0.0,>=2.13.0->spacy) (2.10)\n",
            "Requirement already satisfied: certifi>=2017.4.17 in /usr/local/lib/python3.7/dist-packages (from requests<3.0.0,>=2.13.0->spacy) (2021.10.8)\n",
            "Requirement already satisfied: urllib3!=1.25.0,!=1.25.1,<1.26,>=1.21.1 in /usr/local/lib/python3.7/dist-packages (from requests<3.0.0,>=2.13.0->spacy) (1.24.3)\n",
            "Requirement already satisfied: chardet<4,>=3.0.2 in /usr/local/lib/python3.7/dist-packages (from requests<3.0.0,>=2.13.0->spacy) (3.0.4)\n",
            "Collecting en_core_web_sm==2.2.5\n",
            "  Downloading https://github.com/explosion/spacy-models/releases/download/en_core_web_sm-2.2.5/en_core_web_sm-2.2.5.tar.gz (12.0 MB)\n",
            "\u001b[K     |████████████████████████████████| 12.0 MB 23.1 MB/s \n",
            "\u001b[?25hRequirement already satisfied: spacy>=2.2.2 in /usr/local/lib/python3.7/dist-packages (from en_core_web_sm==2.2.5) (2.2.4)\n",
            "Requirement already satisfied: cymem<2.1.0,>=2.0.2 in /usr/local/lib/python3.7/dist-packages (from spacy>=2.2.2->en_core_web_sm==2.2.5) (2.0.6)\n",
            "Requirement already satisfied: setuptools in /usr/local/lib/python3.7/dist-packages (from spacy>=2.2.2->en_core_web_sm==2.2.5) (57.4.0)\n",
            "Requirement already satisfied: numpy>=1.15.0 in /usr/local/lib/python3.7/dist-packages (from spacy>=2.2.2->en_core_web_sm==2.2.5) (1.21.5)\n",
            "Requirement already satisfied: murmurhash<1.1.0,>=0.28.0 in /usr/local/lib/python3.7/dist-packages (from spacy>=2.2.2->en_core_web_sm==2.2.5) (1.0.6)\n",
            "Requirement already satisfied: srsly<1.1.0,>=1.0.2 in /usr/local/lib/python3.7/dist-packages (from spacy>=2.2.2->en_core_web_sm==2.2.5) (1.0.5)\n",
            "Requirement already satisfied: thinc==7.4.0 in /usr/local/lib/python3.7/dist-packages (from spacy>=2.2.2->en_core_web_sm==2.2.5) (7.4.0)\n",
            "Requirement already satisfied: catalogue<1.1.0,>=0.0.7 in /usr/local/lib/python3.7/dist-packages (from spacy>=2.2.2->en_core_web_sm==2.2.5) (1.0.0)\n",
            "Requirement already satisfied: plac<1.2.0,>=0.9.6 in /usr/local/lib/python3.7/dist-packages (from spacy>=2.2.2->en_core_web_sm==2.2.5) (1.1.3)\n",
            "Requirement already satisfied: blis<0.5.0,>=0.4.0 in /usr/local/lib/python3.7/dist-packages (from spacy>=2.2.2->en_core_web_sm==2.2.5) (0.4.1)\n",
            "Requirement already satisfied: tqdm<5.0.0,>=4.38.0 in /usr/local/lib/python3.7/dist-packages (from spacy>=2.2.2->en_core_web_sm==2.2.5) (4.63.0)\n",
            "Requirement already satisfied: requests<3.0.0,>=2.13.0 in /usr/local/lib/python3.7/dist-packages (from spacy>=2.2.2->en_core_web_sm==2.2.5) (2.23.0)\n",
            "Requirement already satisfied: wasabi<1.1.0,>=0.4.0 in /usr/local/lib/python3.7/dist-packages (from spacy>=2.2.2->en_core_web_sm==2.2.5) (0.9.0)\n",
            "Requirement already satisfied: preshed<3.1.0,>=3.0.2 in /usr/local/lib/python3.7/dist-packages (from spacy>=2.2.2->en_core_web_sm==2.2.5) (3.0.6)\n",
            "Requirement already satisfied: importlib-metadata>=0.20 in /usr/local/lib/python3.7/dist-packages (from catalogue<1.1.0,>=0.0.7->spacy>=2.2.2->en_core_web_sm==2.2.5) (4.11.3)\n",
            "Requirement already satisfied: zipp>=0.5 in /usr/local/lib/python3.7/dist-packages (from importlib-metadata>=0.20->catalogue<1.1.0,>=0.0.7->spacy>=2.2.2->en_core_web_sm==2.2.5) (3.7.0)\n",
            "Requirement already satisfied: typing-extensions>=3.6.4 in /usr/local/lib/python3.7/dist-packages (from importlib-metadata>=0.20->catalogue<1.1.0,>=0.0.7->spacy>=2.2.2->en_core_web_sm==2.2.5) (3.10.0.2)\n",
            "Requirement already satisfied: urllib3!=1.25.0,!=1.25.1,<1.26,>=1.21.1 in /usr/local/lib/python3.7/dist-packages (from requests<3.0.0,>=2.13.0->spacy>=2.2.2->en_core_web_sm==2.2.5) (1.24.3)\n",
            "Requirement already satisfied: certifi>=2017.4.17 in /usr/local/lib/python3.7/dist-packages (from requests<3.0.0,>=2.13.0->spacy>=2.2.2->en_core_web_sm==2.2.5) (2021.10.8)\n",
            "Requirement already satisfied: idna<3,>=2.5 in /usr/local/lib/python3.7/dist-packages (from requests<3.0.0,>=2.13.0->spacy>=2.2.2->en_core_web_sm==2.2.5) (2.10)\n",
            "Requirement already satisfied: chardet<4,>=3.0.2 in /usr/local/lib/python3.7/dist-packages (from requests<3.0.0,>=2.13.0->spacy>=2.2.2->en_core_web_sm==2.2.5) (3.0.4)\n",
            "\u001b[38;5;2m✔ Download and installation successful\u001b[0m\n",
            "You can now load the model via spacy.load('en_core_web_sm')\n",
            "Collecting en_core_web_sm==2.2.5\n",
            "  Downloading https://github.com/explosion/spacy-models/releases/download/en_core_web_sm-2.2.5/en_core_web_sm-2.2.5.tar.gz (12.0 MB)\n",
            "\u001b[K     |████████████████████████████████| 12.0 MB 22.7 MB/s \n",
            "\u001b[?25hRequirement already satisfied: spacy>=2.2.2 in /usr/local/lib/python3.7/dist-packages (from en_core_web_sm==2.2.5) (2.2.4)\n",
            "Requirement already satisfied: blis<0.5.0,>=0.4.0 in /usr/local/lib/python3.7/dist-packages (from spacy>=2.2.2->en_core_web_sm==2.2.5) (0.4.1)\n",
            "Requirement already satisfied: wasabi<1.1.0,>=0.4.0 in /usr/local/lib/python3.7/dist-packages (from spacy>=2.2.2->en_core_web_sm==2.2.5) (0.9.0)\n",
            "Requirement already satisfied: preshed<3.1.0,>=3.0.2 in /usr/local/lib/python3.7/dist-packages (from spacy>=2.2.2->en_core_web_sm==2.2.5) (3.0.6)\n",
            "Requirement already satisfied: requests<3.0.0,>=2.13.0 in /usr/local/lib/python3.7/dist-packages (from spacy>=2.2.2->en_core_web_sm==2.2.5) (2.23.0)\n",
            "Requirement already satisfied: murmurhash<1.1.0,>=0.28.0 in /usr/local/lib/python3.7/dist-packages (from spacy>=2.2.2->en_core_web_sm==2.2.5) (1.0.6)\n",
            "Requirement already satisfied: setuptools in /usr/local/lib/python3.7/dist-packages (from spacy>=2.2.2->en_core_web_sm==2.2.5) (57.4.0)\n",
            "Requirement already satisfied: tqdm<5.0.0,>=4.38.0 in /usr/local/lib/python3.7/dist-packages (from spacy>=2.2.2->en_core_web_sm==2.2.5) (4.63.0)\n",
            "Requirement already satisfied: srsly<1.1.0,>=1.0.2 in /usr/local/lib/python3.7/dist-packages (from spacy>=2.2.2->en_core_web_sm==2.2.5) (1.0.5)\n",
            "Requirement already satisfied: thinc==7.4.0 in /usr/local/lib/python3.7/dist-packages (from spacy>=2.2.2->en_core_web_sm==2.2.5) (7.4.0)\n",
            "Requirement already satisfied: cymem<2.1.0,>=2.0.2 in /usr/local/lib/python3.7/dist-packages (from spacy>=2.2.2->en_core_web_sm==2.2.5) (2.0.6)\n",
            "Requirement already satisfied: catalogue<1.1.0,>=0.0.7 in /usr/local/lib/python3.7/dist-packages (from spacy>=2.2.2->en_core_web_sm==2.2.5) (1.0.0)\n",
            "Requirement already satisfied: numpy>=1.15.0 in /usr/local/lib/python3.7/dist-packages (from spacy>=2.2.2->en_core_web_sm==2.2.5) (1.21.5)\n",
            "Requirement already satisfied: plac<1.2.0,>=0.9.6 in /usr/local/lib/python3.7/dist-packages (from spacy>=2.2.2->en_core_web_sm==2.2.5) (1.1.3)\n",
            "Requirement already satisfied: importlib-metadata>=0.20 in /usr/local/lib/python3.7/dist-packages (from catalogue<1.1.0,>=0.0.7->spacy>=2.2.2->en_core_web_sm==2.2.5) (4.11.3)\n",
            "Requirement already satisfied: zipp>=0.5 in /usr/local/lib/python3.7/dist-packages (from importlib-metadata>=0.20->catalogue<1.1.0,>=0.0.7->spacy>=2.2.2->en_core_web_sm==2.2.5) (3.7.0)\n",
            "Requirement already satisfied: typing-extensions>=3.6.4 in /usr/local/lib/python3.7/dist-packages (from importlib-metadata>=0.20->catalogue<1.1.0,>=0.0.7->spacy>=2.2.2->en_core_web_sm==2.2.5) (3.10.0.2)\n",
            "Requirement already satisfied: certifi>=2017.4.17 in /usr/local/lib/python3.7/dist-packages (from requests<3.0.0,>=2.13.0->spacy>=2.2.2->en_core_web_sm==2.2.5) (2021.10.8)\n",
            "Requirement already satisfied: urllib3!=1.25.0,!=1.25.1,<1.26,>=1.21.1 in /usr/local/lib/python3.7/dist-packages (from requests<3.0.0,>=2.13.0->spacy>=2.2.2->en_core_web_sm==2.2.5) (1.24.3)\n",
            "Requirement already satisfied: chardet<4,>=3.0.2 in /usr/local/lib/python3.7/dist-packages (from requests<3.0.0,>=2.13.0->spacy>=2.2.2->en_core_web_sm==2.2.5) (3.0.4)\n",
            "Requirement already satisfied: idna<3,>=2.5 in /usr/local/lib/python3.7/dist-packages (from requests<3.0.0,>=2.13.0->spacy>=2.2.2->en_core_web_sm==2.2.5) (2.10)\n",
            "\u001b[38;5;2m✔ Download and installation successful\u001b[0m\n",
            "You can now load the model via spacy.load('en_core_web_sm')\n",
            "\u001b[38;5;2m✔ Linking successful\u001b[0m\n",
            "/usr/local/lib/python3.7/dist-packages/en_core_web_sm -->\n",
            "/usr/local/lib/python3.7/dist-packages/spacy/data/en\n",
            "You can now load the model via spacy.load('en')\n"
          ]
        }
      ]
    },
    {
      "cell_type": "code",
      "source": [
        "sp = spacy.load('en_core_web_sm')"
      ],
      "metadata": {
        "id": "lXhcRfYC9bgJ"
      },
      "execution_count": 14,
      "outputs": []
    },
    {
      "cell_type": "code",
      "source": [
        "#add the word play to the NLTK stop word collection\n",
        "all_stopwords = sp.Defaults.stop_words\n",
        "all_stopwords.add(\"play\")"
      ],
      "metadata": {
        "id": "GMNKjwg69j4K"
      },
      "execution_count": 16,
      "outputs": []
    },
    {
      "cell_type": "code",
      "source": [
        "text = \"Yashesh likes to play football, however he is not too fond of tennis.\"\n",
        "text_tokens = word_tokenize(text)\n",
        "tokens_without_sw = [word for word in text_tokens if not word in all_stopwords]\n",
        "print(tokens_without_sw)"
      ],
      "metadata": {
        "colab": {
          "base_uri": "https://localhost:8080/"
        },
        "id": "wu9D4m0g9oGP",
        "outputId": "dca5c671-e5b3-4803-b106-7fff1fd6b432"
      },
      "execution_count": 17,
      "outputs": [
        {
          "output_type": "stream",
          "name": "stdout",
          "text": [
            "['Yashesh', 'likes', 'football', ',', 'fond', 'tennis', '.']\n"
          ]
        }
      ]
    },
    {
      "cell_type": "code",
      "source": [
        "#remove 'not' from stop word collection\n",
        "all_stopwords.remove('not')\n",
        "tokens_without_sw = [word for word in text_tokens if not word in all_stopwords]\n",
        "print(tokens_without_sw) "
      ],
      "metadata": {
        "colab": {
          "base_uri": "https://localhost:8080/"
        },
        "id": "5Q8qe4oP9rJm",
        "outputId": "c78962c2-bf08-4af7-a83d-a29d30425a49"
      },
      "execution_count": 18,
      "outputs": [
        {
          "output_type": "stream",
          "name": "stdout",
          "text": [
            "['Yashesh', 'likes', 'football', ',', 'not', 'fond', 'tennis', '.']\n"
          ]
        }
      ]
    },
    {
      "cell_type": "code",
      "source": [
        ""
      ],
      "metadata": {
        "id": "_N14Ri5V90v8"
      },
      "execution_count": null,
      "outputs": []
    }
  ]
}