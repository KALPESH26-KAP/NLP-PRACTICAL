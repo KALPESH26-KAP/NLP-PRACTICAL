{
  "cells": [
    {
      "cell_type": "markdown",
      "metadata": {
        "id": "view-in-github",
        "colab_type": "text"
      },
      "source": [
        "<a href=\"https://colab.research.google.com/github/KALPESH26-KAP/NLP-PRACTICAL/blob/main/Practical%20No.%2010/NLP_Practical_10.ipynb\" target=\"_parent\"><img src=\"https://colab.research.google.com/assets/colab-badge.svg\" alt=\"Open In Colab\"/></a>"
      ]
    },
    {
      "cell_type": "markdown",
      "metadata": {
        "id": "aL8FZt64LobN"
      },
      "source": [
        "# Practical 10\n",
        "# A. Speech Tagging\n",
        "## i. Sppech Tagging using spacy"
      ]
    },
    {
      "cell_type": "code",
      "execution_count": null,
      "metadata": {
        "colab": {
          "base_uri": "https://localhost:8080/"
        },
        "id": "iVbVyg2QLV_8",
        "outputId": "2522deb4-c8c9-4d82-ca16-0fa87672c662"
      },
      "outputs": [
        {
          "output_type": "stream",
          "name": "stdout",
          "text": [
            "I like to play football. I hated it in my childhood though\n",
            "VERB\n",
            "VBD\n",
            "verb, past tense\n",
            "I            PRON       PRP      pronoun, personal\n",
            "like         VERB       VBP      verb, non-3rd person singular present\n",
            "to           PART       TO       infinitival \"to\"\n",
            "play         VERB       VB       verb, base form\n",
            "football     NOUN       NN       noun, singular or mass\n",
            ".            PUNCT      .        punctuation mark, sentence closer\n",
            "I            PRON       PRP      pronoun, personal\n",
            "hated        VERB       VBD      verb, past tense\n",
            "it           PRON       PRP      pronoun, personal\n",
            "in           ADP        IN       conjunction, subordinating or preposition\n",
            "my           DET        PRP$     pronoun, possessive\n",
            "childhood    NOUN       NN       noun, singular or mass\n",
            "though       SCONJ      IN       conjunction, subordinating or preposition\n",
            "google       VERB       VB       verb, base form\n",
            "google       PROPN      NNP      noun, proper singular\n",
            "85. ADP     : 1\n",
            "90. DET     : 1\n",
            "92. NOUN    : 2\n",
            "94. PART    : 1\n",
            "95. PRON    : 3\n",
            "97. PUNCT   : 1\n",
            "98. SCONJ   : 1\n",
            "100. VERB    : 3\n",
            "\n",
            "Using the 'dep' visualizer\n",
            "Serving on http://0.0.0.0:5000 ...\n",
            "\n"
          ]
        }
      ],
      "source": [
        "import spacy\n",
        "sp = spacy.load('en_core_web_sm')\n",
        "sen = sp(u\"I like to play football. I hated it in my childhood though\")\n",
        "print(sen.text)\n",
        "print(sen[7].pos_)\n",
        "print(sen[7].tag_)\n",
        "print(spacy.explain(sen[7].tag_))\n",
        "for word in sen:\n",
        " print(f'{word.text:{12}} {word.pos_:{10}} {word.tag_:{8}} {spacy.explain(word.tag_)}')\n",
        "sen = sp(u'Can you google it?')\n",
        "word = sen[2]\n",
        "print(f'{word.text:{12}} {word.pos_:{10}} {word.tag_:{8}} {spacy.explain(word.tag_)}')\n",
        "sen = sp(u'Can you search it on google?')\n",
        "word = sen[5]\n",
        "print(f'{word.text:{12}} {word.pos_:{10}} {word.tag_:{8}} {spacy.explain(word.tag_)}')\n",
        "#Finding the Number of POS Tags\n",
        "sen = sp(u\"I like to play football. I hated it in my childhood though\")\n",
        "num_pos = sen.count_by(spacy.attrs.POS)\n",
        "num_pos\n",
        "for k,v in sorted(num_pos.items()):\n",
        " print(f'{k}. {sen.vocab[k].text:{8}}: {v}')\n",
        "#Visualizing Parts of Speech Tags\n",
        "from spacy import displacy\n",
        "sen = sp(u\"I like to play football. I hated it in my childhood though\")\n",
        "displacy.serve(sen, style='dep', options={'distance': 120})\n"
      ]
    },
    {
      "cell_type": "markdown",
      "metadata": {
        "id": "LIITrNcnNCfy"
      },
      "source": [
        "## ii. Speech Tagging using NLTK"
      ]
    },
    {
      "cell_type": "code",
      "execution_count": null,
      "metadata": {
        "id": "oKyJejKML8JH"
      },
      "outputs": [],
      "source": [
        "nltk.download('punkt')\n",
        "nltk.download('averaged_perceptron_tagger')\n",
        "import nltk\n",
        "from nltk.corpus import state_union\n",
        "from nltk.tokenize import PunktSentenceTokenizer\n",
        "\n",
        "import nltk\n",
        "nltk.download('state_union') \n",
        "\n",
        "#create our training and testing data:\n",
        "train_text = state_union.raw(\"2005-GWBush.txt\")\n",
        "sample_text = state_union.raw(\"2006-GWBush.txt\")\n",
        "#train the Punkt tokenizer like:\n",
        "custom_sent_tokenizer = PunktSentenceTokenizer(train_text)\n",
        "# tokenize:\n",
        "tokenized = custom_sent_tokenizer.tokenize(sample_text)\n",
        "def process_content():\n",
        "  try:\n",
        "    for i in tokenized[:2]:\n",
        "      words = nltk.word_tokenize(i)\n",
        "      tagged = nltk.pos_tag(words)\n",
        "      print(tagged)\n",
        "  except Exception as e:\n",
        "    print(str(e))\n",
        "process_content()\n"
      ]
    },
    {
      "cell_type": "code",
      "execution_count": null,
      "metadata": {
        "id": "J56yrAUYNrJC"
      },
      "outputs": [],
      "source": [
        "import nltk\n",
        "from nltk import PCFG\n",
        "grammar = PCFG.fromstring('''\n",
        "NP -> NNS [0.5] | JJ NNS [0.3] | NP CC NP [0.2]\n",
        "NNS -> \"men\" [0.1] | \"women\" [0.2] | \"children\" [0.3] | NNS CC NNS [0.4]\n",
        "JJ -> \"old\" [0.4] | \"young\" [0.6]\n",
        "CC -> \"and\" [0.9] | \"or\" [0.1]\n",
        "''')\n",
        "print(grammar)\n",
        "viterbi_parser = nltk.ViterbiParser(grammar)\n",
        "token = \"old men and women\".split()\n",
        "obj = viterbi_parser.parse(token)\n",
        "print(\"Output: \")\n",
        "for x in obj:\n",
        " print(x)"
      ]
    },
    {
      "cell_type": "markdown",
      "metadata": {
        "id": "CZPKRB1KNRkx"
      },
      "source": [
        "# B. Statistical Parsing\n",
        "## i. Usage of Give and Gave in the Penn Treebank sample"
      ]
    },
    {
      "cell_type": "code",
      "source": [
        "nltk.download('treebank')\n",
        "import nltk\n",
        "import nltk.parse.viterbi\n",
        "import nltk.parse.pchart\n",
        "def give(t):\n",
        " return t.label() == 'VP' and len(t) > 2 and t[1].label() == 'NP'\\\n",
        " and (t[2].label() == 'PP-DTV' or t[2].label() == 'NP')\\\n",
        " and ('give' in t[0].leaves() or 'gave' in t[0].leaves())\n",
        "def sent(t):\n",
        " return ' '.join(token for token in t.leaves() if token[0] not in '*-0')\n",
        "def print_node(t, width):\n",
        " output = \"%s %s: %s / %s: %s\" %\\\n",
        " (sent(t[0]), t[1].label(), sent(t[1]), t[2].label(), sent(t[2]))\n",
        " if len(output) > width:\n",
        "  output = output[:width] + \"...\"\n",
        " print (output)\n",
        "for tree in nltk.corpus.treebank.parsed_sents():\n",
        " for t in tree.subtrees(give):\n",
        "  print_node(t, 72)"
      ],
      "metadata": {
        "id": "9KxHRCy2L9-z",
        "colab": {
          "base_uri": "https://localhost:8080/"
        },
        "outputId": "401c739d-b32c-4ca4-b009-f4e3ab6ec26b"
      },
      "execution_count": null,
      "outputs": [
        {
          "output_type": "stream",
          "name": "stdout",
          "text": [
            "[nltk_data] Downloading package treebank to /root/nltk_data...\n",
            "[nltk_data]   Unzipping corpora/treebank.zip.\n",
            "gave NP: the chefs / NP: a standing ovation\n",
            "give NP: advertisers / NP: discounts for maintaining or increasing ad sp...\n",
            "give NP: it / PP-DTV: to the politicians\n",
            "gave NP: them / NP: similar help\n",
            "give NP: them / NP: \n",
            "give NP: only French history questions / PP-DTV: to students in a Europe...\n",
            "give NP: federal judges / NP: a raise\n",
            "give NP: consumers / NP: the straight scoop on the U.S. waste crisis\n",
            "gave NP: Mitsui / NP: access to a high-tech medical product\n",
            "give NP: Mitsubishi / NP: a window on the U.S. glass industry\n",
            "give NP: much thought / PP-DTV: to the rates she was receiving , nor to ...\n",
            "give NP: your Foster Savings Institution / NP: the gift of hope and free...\n",
            "give NP: market operators / NP: the authority to suspend trading in futu...\n",
            "gave NP: quick approval / PP-DTV: to $ 3.18 billion in supplemental appr...\n",
            "give NP: the Transportation Department / NP: up to 50 days to review any...\n",
            "give NP: the president / NP: such power\n",
            "give NP: me / NP: the heebie-jeebies\n",
            "give NP: holders / NP: the right , but not the obligation , to buy a cal...\n",
            "gave NP: Mr. Thomas / NP: only a `` qualified '' rating , rather than ``...\n",
            "give NP: the president / NP: line-item veto power\n"
          ]
        }
      ]
    },
    {
      "cell_type": "code",
      "source": [
        ""
      ],
      "metadata": {
        "id": "wbPhTsCaTSg0"
      },
      "execution_count": null,
      "outputs": []
    }
  ],
  "metadata": {
    "colab": {
      "name": "NLP Practical 10.ipynb",
      "provenance": [],
      "include_colab_link": true
    },
    "kernelspec": {
      "display_name": "Python 3",
      "name": "python3"
    },
    "language_info": {
      "name": "python"
    }
  },
  "nbformat": 4,
  "nbformat_minor": 0
}